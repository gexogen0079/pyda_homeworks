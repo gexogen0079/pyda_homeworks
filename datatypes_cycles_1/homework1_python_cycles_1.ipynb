{
 "cells": [
  {
   "cell_type": "markdown",
   "metadata": {},
   "source": [
    "# Домашнее задание к лекции \"Введение в типы данных и циклы. Часть 1\""
   ]
  },
  {
   "cell_type": "markdown",
   "metadata": {},
   "source": [
    "## Задание 1"
   ]
  },
  {
   "cell_type": "code",
   "execution_count": 12,
   "metadata": {},
   "outputs": [
    {
     "name": "stdout",
     "output_type": "stream",
     "text": [
      "введите слово из латинских букв halo\n",
      "halo  - слово имеет чётное число букв 4\n",
      "al  две средние буквы\n"
     ]
    }
   ],
   "source": [
    "word = input('введите слово из латинских букв ')\n",
    "length_word = len( word )\n",
    "\n",
    "if length_word % 2 == 0:\n",
    "    print( word,' - слово имеет чётное число букв', length_word)\n",
    "    print( word[int(len(word) / 2 - 1):int(len(word) / 2 + 1)], ' две средние буквы')\n",
    "else: \n",
    "    print( word,' - слово имеет не чётное число букв', length_word)\n",
    "    print( word[int(len(word) / 2)], ' средняя буква')"
   ]
  },
  {
   "cell_type": "markdown",
   "metadata": {},
   "source": [
    "## Задание 2"
   ]
  },
  {
   "cell_type": "code",
   "execution_count": 2,
   "metadata": {},
   "outputs": [
    {
     "name": "stdout",
     "output_type": "stream",
     "text": [
      "введите число 0\n",
      "ввели число 0, сумма чисел равна  0\n"
     ]
    }
   ],
   "source": [
    "number = int(input('введите число '))\n",
    "summ = 0\n",
    "while number != 0:\n",
    "    summ += number\n",
    "    if number  == 0:\n",
    "        print('сумма всех введённых чисел равна: ', summ)\n",
    "        summ += number\n",
    "        break\n",
    "    number = int(input('введите число '))\n",
    "else:\n",
    "    print('ввели число 0, сумма чисел равна ', summ) "
   ]
  },
  {
   "cell_type": "markdown",
   "metadata": {},
   "source": [
    "## Задание 3"
   ]
  },
  {
   "cell_type": "code",
   "execution_count": 105,
   "metadata": {
    "scrolled": true
   },
   "outputs": [
    {
     "name": "stdout",
     "output_type": "stream",
     "text": [
      "Идеальные пары:\n",
      "Alex и  Emma\n",
      "Arthur и  Kate\n",
      "John и  Kira\n",
      "Peter и  Liza\n",
      "Richard и  Trisha\n"
     ]
    }
   ],
   "source": [
    "boys = ['Peter', 'Alex', 'John', 'Arthur', 'Richard']\n",
    "girls = ['Kate', 'Liza', 'Kira', 'Emma', 'Trisha']\n",
    "boys.sort()\n",
    "girls.sort()\n",
    "pairs = zip(boys, girls)\n",
    "if len(boys) == len(girls):\n",
    "    print('Идеальные пары:')\n",
    "    for el in pairs:\n",
    "        print(el[0], 'и ', el[1])\n",
    "else:\n",
    "        print('Внимание, кто-то может остаться без пары!')"
   ]
  },
  {
   "cell_type": "markdown",
   "metadata": {},
   "source": [
    "## Задание 4"
   ]
  },
  {
   "cell_type": "code",
   "execution_count": 112,
   "metadata": {},
   "outputs": [
    {
     "name": "stdout",
     "output_type": "stream",
     "text": [
      "Thailand  - 23.9 C\n",
      "Germany  - 13.8 C\n",
      "Russia  - 3.7 C\n",
      "Poland  - 12.0 C\n"
     ]
    }
   ],
   "source": [
    "countries_temperature = [\n",
    "    ['Thailand', [75.2, 77, 78.8, 73.4, 68, 75.2, 77]],\n",
    "    ['Germany', [57.2, 55.4, 59, 59, 53.6]],\n",
    "    ['Russia', [35.6, 37.4, 39.2, 41, 42.8, 39.2, 35.6]],\n",
    "    ['Poland', [50, 50, 53.6, 57.2, 55.4, 55.4]]\n",
    "]\n",
    "flat_countries_temperature = [] \n",
    "for el in countries_temperature:\n",
    "    flat_countries_temperature += el\n",
    "    ave_sum_temp_c = (((sum(el[1]) / len(el[1])) - 32 ) * (5 / 9) )\n",
    "    print(el[0], ' - {:.1f} C'.format(ave_sum_temp_c))\n"
   ]
  },
  {
   "cell_type": "markdown",
   "metadata": {},
   "source": [
    "## Задание 5"
   ]
  },
  {
   "cell_type": "code",
   "execution_count": 126,
   "metadata": {},
   "outputs": [
    {
     "name": "stdout",
     "output_type": "stream",
     "text": [
      "Среднее количество просмотров на уникального пользователя:  23.25\n"
     ]
    }
   ],
   "source": [
    "stream = [\n",
    "    '2018-01-01,user1,3',\n",
    "    '2018-01-07,user1,4',\n",
    "    '2018-03-29,user1,1',\n",
    "    '2018-04-04,user1,13',\n",
    "    '2018-01-05,user2,7',\n",
    "    '2018-06-14,user3,4',\n",
    "    '2018-07-02,user3,10',\n",
    "    '2018-03-21,user4,19',\n",
    "    '2018-03-22,user4,4',\n",
    "    '2018-04-22,user4,8',\n",
    "    '2018-05-03,user4,9',\n",
    "    '2018-05-11,user4,11',\n",
    "]\n",
    "sum_qua_user = 0\n",
    "unq_user = 0\n",
    "user = 'user1'\n",
    "for spl_stream in stream:\n",
    "    spl_stream = str (spl_stream).split(',')\n",
    "    qua_user = int(spl_stream[2])\n",
    "    sum_qua_user += qua_user\n",
    "    if user != spl_stream[1]:\n",
    "        unq_user += 0\n",
    "    else:\n",
    "        unq_user += 1\n",
    "result = sum_qua_user / unq_user\n",
    "print('Среднее количество просмотров на уникального пользователя: ', result)  "
   ]
  },
  {
   "cell_type": "markdown",
   "metadata": {},
   "source": [
    "## Задание 6"
   ]
  },
  {
   "cell_type": "code",
   "execution_count": 106,
   "metadata": {},
   "outputs": [
    {
     "name": "stdout",
     "output_type": "stream",
     "text": [
      "введите числа 3 3 3 1 1 1 11 11 5\n",
      "[1, 3, 11]\n"
     ]
    }
   ],
   "source": [
    "numbers = input('введите числа ').split()\n",
    "uniq_num = []\n",
    "for el in numbers:\n",
    "    if numbers.count(el) > 1 and int(el) not in uniq_num:\n",
    "        uniq_num.append(int(el))\n",
    "        uniq_num.sort()\n",
    "print(uniq_num)\n",
    "# не понял как вывести числа из строки по отдельности после всех операций\n",
    "# Новый цикл For не помог"
   ]
  },
  {
   "cell_type": "code",
   "execution_count": null,
   "metadata": {},
   "outputs": [],
   "source": []
  }
 ],
 "metadata": {
  "kernelspec": {
   "display_name": "Python 3",
   "language": "python",
   "name": "python3"
  },
  "language_info": {
   "codemirror_mode": {
    "name": "ipython",
    "version": 3
   },
   "file_extension": ".py",
   "mimetype": "text/x-python",
   "name": "python",
   "nbconvert_exporter": "python",
   "pygments_lexer": "ipython3",
   "version": "3.8.5"
  }
 },
 "nbformat": 4,
 "nbformat_minor": 4
}

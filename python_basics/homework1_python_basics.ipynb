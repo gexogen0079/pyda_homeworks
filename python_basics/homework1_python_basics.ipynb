{
 "cells": [
  {
   "cell_type": "markdown",
   "metadata": {},
   "source": [
    "# Домашнее задание к лекции \"Основы Python\"\n"
   ]
  },
  {
   "cell_type": "markdown",
   "metadata": {},
   "source": [
    "### Решение Задания №1"
   ]
  },
  {
   "cell_type": "code",
   "execution_count": null,
   "metadata": {},
   "outputs": [],
   "source": [
    "phrase_1 = input('введите первую фразу для сравнения: ') \n",
    "phrase_2 = input('введите вторую фразу для сравнения: ')\n",
    "if phrase_1 > phrase_2:\n",
    "    print('Результат:')\n",
    "    print('Фраза 1 длиннее фразы 2')\n",
    "elif phrase_1 < phrase_2:\n",
    "    print('Результат:')\n",
    "    print('Фраза 2 длиннее фразы 1')\n",
    "else:\n",
    "    print('Результат:')\n",
    "    print('Фразы равной длины')"
   ]
  },
  {
   "cell_type": "markdown",
   "metadata": {},
   "source": [
    "### Решение Задания №2"
   ]
  },
  {
   "cell_type": "code",
   "execution_count": 120,
   "metadata": {},
   "outputs": [
    {
     "name": "stdout",
     "output_type": "stream",
     "text": [
      "введите год для проверки: 1999\n",
      "1999 год не високосный, в нем: 366 дней\n"
     ]
    }
   ],
   "source": [
    "year = int( input('введите год для проверки: '))\n",
    "a = year // 4 \n",
    "b = year / 4 \n",
    "c = year // 100 \n",
    "d = year / 100\n",
    "if a == b and c != d:\n",
    "    print( year,'год  високосный, в нем: 365 дней')\n",
    "else:\n",
    "    print( year,'год не високосный, в нем: 366 дней')"
   ]
  },
  {
   "cell_type": "markdown",
   "metadata": {},
   "source": [
    "### Решение Задания №3"
   ]
  },
  {
   "cell_type": "code",
   "execution_count": 131,
   "metadata": {},
   "outputs": [
    {
     "name": "stdout",
     "output_type": "stream",
     "text": [
      "Введите день: 2\n",
      "Введите месяц: февраль\n",
      "Результат:\n",
      "Ваш знак зодиака: Водолей\n"
     ]
    }
   ],
   "source": [
    "day = int( input('Введите день: '))\n",
    "month = str( input('Введите месяц: '))\n",
    "if month == 'январь' and 21 < day < 31 or month == 'февраль' and 1 < day < 19 :\n",
    "    print('Результат:')\n",
    "    print('Ваш знак зодиака: Водолей')\n",
    "elif month == 'февраль' and 20 < day < 28 or month == 'март' and 1 < day < 20 :\n",
    "    print('Результат:')\n",
    "    print('Ваш знак зодиака: Рыбы')   \n",
    "elif month == 'март' and 21 < day < 31 or month == 'апрель' and 1 < day < 20 :\n",
    "    print('Результат:')\n",
    "    print('Ваш знак зодиака: Овен')\n",
    "elif month == 'апрель' and 20 < day < 30 or month == 'май' and 1 < day < 21 :\n",
    "    print('Результат:')\n",
    "    print('Ваш знак зодиака: Телец')\n",
    "elif month == 'май' and 22 < day < 30 or month == 'июнь' and 1 < day < 21 :\n",
    "    print('Результат:')\n",
    "    print('Ваш знак зодиака: Близнецы')\n",
    "elif month == 'июнь' and 22 < day < 30 or month == 'июль' and 1 < day < 22 :\n",
    "    print('Результат:')\n",
    "    print('Ваш знак зодиака: Рак')\n",
    "elif month == 'июль' and 23 < day < 31 or month == 'август' and 1 < day < 23 :\n",
    "    print('Результат:')\n",
    "    print('Ваш знак зодиака: Лев')\n",
    "elif month == 'август' and 24 < day < 31 or month == 'сентябрь' and 1 < day < 23 :\n",
    "    print('Результат:')\n",
    "    print('Ваш знак зодиака: Дева')\n",
    "elif month == 'сентябрь' and 24 < day < 30 or month == 'октябрь' and 1 < day < 23 :\n",
    "    print('Результат:')\n",
    "    print('Ваш знак зодиака: Весы')\n",
    "elif month == 'октябрь' and 24 < day < 31 or month == 'ноябрь' and 1 < day < 22 :\n",
    "    print('Результат:')\n",
    "    print('Ваш знак зодиака: Скорпион')\n",
    "elif month == 'ноябрь' and 23 < day < 30 or month == 'декабрь' and 1 < day < 22 :\n",
    "    print('Результат:')\n",
    "    print('Ваш знак зодиака: Стрелец')\n",
    "elif month == 'декабрь' and 23 < day < 31 or month == 'январь' and 1 < day < 20 :\n",
    "    print('Результат:')\n",
    "    print('Ваш знак зодиака Козерог')\n",
    "else: print('ошибка ввода данных')\n",
    "    \n",
    "    \n"
   ]
  },
  {
   "cell_type": "code",
   "execution_count": 135,
   "metadata": {},
   "outputs": [
    {
     "name": "stdout",
     "output_type": "stream",
     "text": [
      "width = 60\n",
      "length = 10\n",
      "height = 70\n",
      "Стандартная коробка №3\n"
     ]
    }
   ],
   "source": [
    "width = int( input('width = '))\n",
    "length = int( input('length = '))\n",
    "height = int( input('height = '))\n",
    "if width < 15 and length < 15 and height < 15 :\n",
    "    print('Коробка №1')\n",
    "elif 15 < width < 50 and 15 < length < 50 and 15 < height < 50 :\n",
    "    print('Коробка №2')\n",
    "elif 2000 < length :\n",
    "    print('Упаковка для лыж')\n",
    "else: print('Стандартная коробка №3')\n",
    "    "
   ]
  },
  {
   "cell_type": "code",
   "execution_count": null,
   "metadata": {},
   "outputs": [],
   "source": []
  }
 ],
 "metadata": {
  "kernelspec": {
   "display_name": "Python 3",
   "language": "python",
   "name": "python3"
  },
  "language_info": {
   "codemirror_mode": {
    "name": "ipython",
    "version": 3
   },
   "file_extension": ".py",
   "mimetype": "text/x-python",
   "name": "python",
   "nbconvert_exporter": "python",
   "pygments_lexer": "ipython3",
   "version": "3.8.5"
  }
 },
 "nbformat": 4,
 "nbformat_minor": 4
}
